{
 "cells": [
  {
   "cell_type": "markdown",
   "metadata": {},
   "source": [
    "# Neurog Internship: (Task 6 - Implementation Of Machine Learning & Deep Learning For The Prediction Of Close Price. Then, Perform Back Testing On Previous 1 Year Data)"
   ]
  },
  {
   "cell_type": "markdown",
   "metadata": {},
   "source": [
    "## All Libraries"
   ]
  },
  {
   "cell_type": "code",
   "execution_count": 1,
   "metadata": {},
   "outputs": [],
   "source": [
    "# For Vizualization & Plotting\n",
    "import matplotlib.pyplot as plt\n",
    "\n",
    "# Scikit-Learn Modules For Machine Learning\n",
    "from sklearn.ensemble import GradientBoostingRegressor\n",
    "from sklearn.ensemble import RandomForestRegressor\n",
    "from sklearn.linear_model import LinearRegression\n",
    "from sklearn.tree import DecisionTreeRegressor\n",
    "from sklearn.svm import SVR\n",
    "\n",
    "# Scikit-Learn Modules For Metrics\n",
    "from sklearn.metrics import mean_squared_error\n",
    "from sklearn.metrics import r2_score\n",
    "\n",
    "# Scikit-Learn Modules For Data Manipulation (Train Valid Test Splits)\n",
    "from sklearn.model_selection import train_test_split\n",
    "from sklearn.preprocessing import StandardScaler\n",
    "from sklearn.preprocessing import MinMaxScaler\n",
    "\n",
    "# Keras Modules For Deep Learning\n",
    "from keras.models import Sequential\n",
    "from keras.layers import Dense\n",
    "from keras.layers import LSTM\n",
    "\n",
    "# Other Necessary Libraries\n",
    "import pandas as pd\n",
    "import numpy as np\n",
    "import copy"
   ]
  },
  {
   "cell_type": "markdown",
   "metadata": {},
   "source": [
    "## All Declarations"
   ]
  },
  {
   "cell_type": "code",
   "execution_count": null,
   "metadata": {},
   "outputs": [],
   "source": [
    "# Define the relative path to the CSV file\n",
    "csv_filename = \"BTCUSDT_1_Minute_From_2020_Till_Now.csv\"\n",
    "\n",
    "# Settig Up The Directory From The Directory Hierarchy\n",
    "# Get the notebook's current directory\n",
    "notebook_dir = os.path.dirname(os.path.abspath(__file__))\n",
    "\n",
    "# Go up one level to the parent directory\n",
    "parent_dir = os.path.dirname(script_dir)\n",
    "\n",
    "# Create the full path to the output CSV file in the 'ohlc' directory within 'data'\n",
    "data_dir = os.path.join(parent_dir, \"data\")\n",
    "ohlc_dir = os.path.join(data_dir, \"ohlc\")\n",
    "full_csv_path = os.path.join(ohlc_dir, csv_filename)"
   ]
  },
  {
   "cell_type": "markdown",
   "metadata": {},
   "source": [
    "## Utility Functions"
   ]
  },
  {
   "cell_type": "code",
   "execution_count": 2,
   "metadata": {},
   "outputs": [],
   "source": [
    "# Evaluate models\n",
    "def evaluate_model(y_true, y_pred, model_name):\n",
    "    mse = mean_squared_error(y_true, y_pred)\n",
    "    r2 = r2_score(y_true, y_pred)\n",
    "    print(f\"{model_name} - Mean Squared Error: {mse:.4f}, R² Score: {r2:.4f}\")\n",
    "    \n",
    "    \n",
    "def plot_past_plus_predicted(data, predictions, train_len):\n",
    "    # Plot the data\n",
    "    # Create a DataFrame for the valid set\n",
    "    past = data[:train_len].copy()\n",
    "    future = data[train_len:].copy()\n",
    "    \n",
    "    if isinstance(past, pd.Series):\n",
    "        past = past.to_frame()\n",
    "        \n",
    "    if isinstance(future, pd.Series):\n",
    "        future = future.to_frame()\n",
    "    \n",
    "    future['Predictions'] = predictions\n",
    "\n",
    "    # Visualize the data\n",
    "    plt.figure(figsize=(16,6))\n",
    "    plt.title('Model')\n",
    "    plt.xlabel('Date', fontsize=18)\n",
    "    plt.ylabel('Close Price USD ($)', fontsize=18)\n",
    "    plt.plot(past)\n",
    "    plt.plot(future[['Close', 'Predictions']])\n",
    "    plt.legend(['Train', 'Actual', 'Predictions'], loc='lower right')\n",
    "    plt.show()"
   ]
  },
  {
   "cell_type": "markdown",
   "metadata": {},
   "source": [
    "## (Function To Convert DF To Any Timeframe) - Taken From The Previous Day"
   ]
  },
  {
   "cell_type": "code",
   "execution_count": 3,
   "metadata": {},
   "outputs": [],
   "source": [
    "# Functions converts the dataframe into any given time frame.\n",
    "def convert_1m_to_any_timeframe(df: pd.DataFrame, timeframe: str) -> pd.DataFrame:\n",
    "    \"\"\"\n",
    "    Convert a DataFrame of 1-minute OHLC data to any given timeframe.\n",
    "\n",
    "    Args:\n",
    "    - df (pd.DataFrame): DataFrame containing 1-minute OHLC data. \n",
    "      The DataFrame should have a datetime index & columns ['Open', 'High', 'Low', 'Close', 'Volume'].\n",
    "    - timeframe (str): The desired timeframe to resample the data to (e.g., '1H' for 1 hour, '1D' for 1 day).\n",
    "\n",
    "    Returns:\n",
    "    - pd.DataFrame: Resampled DataFrame with OHLC data in the specified timeframe. The index will be renamed to\n",
    "      reflect the new timeframe.\n",
    "\n",
    "    Example:\n",
    "    ```\n",
    "    resampled_df = convert_1m_to_any_timeframe(ohlc_df, '1H')\n",
    "    ```\n",
    "    \"\"\"\n",
    "    # Ensure the DataFrame index is of datetime type\n",
    "    df.index = pd.to_datetime(df.index)\n",
    "    \n",
    "    # Try resampling the data to the desired timeframe\n",
    "    try:\n",
    "        df_resampled = df.resample(timeframe).agg({\n",
    "            'Open': 'first',  # Take the first 'Open' value in the timeframe\n",
    "            'High': 'max',    # Take the maximum 'High' value in the timeframe\n",
    "            'Low': 'min',     # Take the minimum 'Low' value in the timeframe\n",
    "            'Close': 'last',  # Take the last 'Close' value in the timeframe\n",
    "            'Volume': 'mean'  # Take the mean 'Volume' value in the timeframe\n",
    "        })\n",
    "    except Exception as e:\n",
    "        print(f\"An error occurred while resampling! Error message: {e}\")\n",
    "        return pd.DataFrame()  # Return an empty DataFrame in case of error\n",
    "\n",
    "    # Rename the index to reflect the new timeframe\n",
    "    df_resampled.index.rename(f'Open time ({timeframe})', inplace = True)\n",
    "    \n",
    "    return df_resampled"
   ]
  },
  {
   "cell_type": "markdown",
   "metadata": {},
   "source": [
    "## Function To Calculate Profit & Loss (PNL) Through The Generated Backtest DataFrame"
   ]
  },
  {
   "cell_type": "code",
   "execution_count": 4,
   "metadata": {},
   "outputs": [],
   "source": [
    "# Function to calculate pnl (profit & loss)\n",
    "def calculate_pnl(entry_price, close_price, direction):\n",
    "    \"\"\"\n",
    "    Calculate Profit and Loss (PNL) as a percentage.\n",
    "\n",
    "    Args:\n",
    "        entry_price (float): The price at which the trade was entered.\n",
    "        close_price (float): The price at which the trade was closed.\n",
    "        direction (str): The direction of the trade, either 'long' or 'short'.\n",
    "\n",
    "    Returns:\n",
    "        float: The PNL as a percentage, rounded to 2 decimal places.\n",
    "    \"\"\"\n",
    "    if direction == 'long':\n",
    "        pnl_percent = ((close_price - entry_price) / entry_price) * 100\n",
    "    elif direction == 'short':\n",
    "        pnl_percent = ((entry_price - close_price) / entry_price) * 100\n",
    "    else:\n",
    "        raise ValueError(\"Invalid direction. Use 'long' or 'short'.\")\n",
    "\n",
    "    return round(pnl_percent, 2)"
   ]
  },
  {
   "cell_type": "markdown",
   "metadata": {},
   "source": [
    "## MACD Indicator Function"
   ]
  },
  {
   "cell_type": "code",
   "execution_count": 5,
   "metadata": {},
   "outputs": [],
   "source": [
    "def calculate_macd(df: pd.DataFrame, short_window: int = 12, long_window: int = 26, signal_window: int = 9) -> pd.DataFrame:\n",
    "    \"\"\"\n",
    "    Calculate the MACD (Moving Average Convergence Divergence) for a given DataFrame.\n",
    "\n",
    "    Args:\n",
    "    - df (pd.DataFrame): DataFrame containing 'Close' price data.\n",
    "    - short_window (int): The window size for the short-term EMA, default is 12.\n",
    "    - long_window (int): The window size for the long-term EMA, default is 26.\n",
    "    - signal_window (int): The window size for the Signal line, default is 9.\n",
    "\n",
    "    Returns:\n",
    "    - pd.DataFrame: DataFrame with the MACD line and Signal line.\n",
    "    \"\"\"\n",
    "    # Calculate the short-term and long-term EMAs\n",
    "    df['EMA_12'] = df['Close'].ewm(span=short_window, adjust=False).mean()\n",
    "    df['EMA_26'] = df['Close'].ewm(span=long_window, adjust=False).mean()\n",
    "\n",
    "    # Calculate the MACD line\n",
    "    df['MACD'] = df['EMA_12'] - df['EMA_26']\n",
    "\n",
    "    # Calculate the Signal line\n",
    "    df['Signal_Line'] = df['MACD'].ewm(span=signal_window, adjust=False).mean()\n",
    "\n",
    "    return df\n",
    "\n",
    "def generate_macd_signals(df: pd.DataFrame) -> pd.DataFrame:\n",
    "    \"\"\"\n",
    "    Generate trading signals based on MACD values.\n",
    "\n",
    "    Args:\n",
    "    - df (pd.DataFrame): DataFrame containing 'MACD' and 'Signal_Line' values.\n",
    "\n",
    "    Returns:\n",
    "    - pd.DataFrame: DataFrame with trading signals.\n",
    "    \"\"\"\n",
    "    df['Signal'] = 0  # Default no signal\n",
    "    df.loc[df['MACD'] > df['Signal_Line'], 'Signal'] = 1  # Buy signal\n",
    "    df.loc[df['MACD'] < df['Signal_Line'], 'Signal'] = -1  # Sell signal\n",
    "\n",
    "    return df"
   ]
  },
  {
   "cell_type": "markdown",
   "metadata": {},
   "source": [
    "## Main Driver Function: Function To Generate Backtested DataFrame"
   ]
  },
  {
   "cell_type": "code",
   "execution_count": 6,
   "metadata": {},
   "outputs": [],
   "source": [
    "def generate_backtest_df(data):\n",
    "    \"\"\"\n",
    "    Generate a backtesting DataFrame based on MACD signals.\n",
    "\n",
    "    Args:\n",
    "        data (pd.DataFrame): DataFrame containing historical data with columns:\n",
    "                             'Open time (4H)', 'Open', 'High', 'Low', 'Close', 'Volume', 'MACD_Signal'.\n",
    "                             The DataFrame must have 'Open time (4H)' as the DateTime index.\n",
    "\n",
    "    Returns:\n",
    "        pd.DataFrame: A DataFrame containing the backtesting results with columns:\n",
    "                      'Open time (4H)', 'direction', 'entry price', 'close price'.\n",
    "    \"\"\"\n",
    "    # Create a new DataFrame for backtesting results\n",
    "    backtest_df = pd.DataFrame(columns=['Open time (4H)', 'direction', 'entry price', 'close price'])\n",
    "\n",
    "    # Initialize variables for tracking positions\n",
    "    current_signal = None\n",
    "    counter = 0\n",
    "\n",
    "    # Iterate through rows of the original DataFrame\n",
    "    for index, row in data.iterrows():\n",
    "        signal = row['Signal']\n",
    "\n",
    "        if signal == 0:\n",
    "            continue  # Skip rows where MACD_Signal is 0\n",
    "\n",
    "        if current_signal is None:\n",
    "            # First entry\n",
    "            if signal == 1:\n",
    "                direction = 'long'\n",
    "            elif signal == -1:\n",
    "                direction = 'short'\n",
    "                \n",
    "            entry_price = row['Open']  # Initial entry price\n",
    "\n",
    "            # Add the first row to backtest_df\n",
    "            backtest_df.loc[counter, ['Open time (4H)', 'direction', 'entry price', 'close price']] = [index, direction, entry_price, 0]\n",
    "            current_signal = signal\n",
    "            counter += 1\n",
    "            \n",
    "        elif (signal + current_signal) == 0:\n",
    "            # Signal change detected\n",
    "            # Add a new row to the dataframe\n",
    "            if signal == 1:\n",
    "                direction = 'long'\n",
    "            elif signal == -1:\n",
    "                direction = 'short'\n",
    "                \n",
    "            entry_price = backtest_df.iloc[counter - 1]['entry price']\n",
    "            close_price = row['Open']\n",
    "            backtest_df.loc[counter, ['Open time (4H)', 'direction', 'entry price', 'close price']] = [index, direction, entry_price, close_price]\n",
    "\n",
    "            # Update current signal\n",
    "            current_signal = signal\n",
    "            counter += 1\n",
    "\n",
    "            # Add another row\n",
    "            backtest_df.loc[counter, ['Open time (4H)', 'direction', 'entry price', 'close price']] = [index, direction, close_price, 0]\n",
    "            counter += 1\n",
    "\n",
    "    return backtest_df"
   ]
  },
  {
   "cell_type": "markdown",
   "metadata": {},
   "source": [
    "## Main"
   ]
  },
  {
   "cell_type": "markdown",
   "metadata": {},
   "source": [
    "### Reading The Previously Saved Data For BTCUSDT"
   ]
  },
  {
   "cell_type": "code",
   "execution_count": 7,
   "metadata": {},
   "outputs": [],
   "source": [
    "BTCUSDT_Filtered_data_1M = pd.read_csv(full_csv_path)\n",
    "BTCUSDT_Filtered_data_1M.set_index('Open time (1M)', inplace = True)\n",
    "\n",
    "# Convert the index to datetime format\n",
    "BTCUSDT_Filtered_data_1M.index = pd.to_datetime(BTCUSDT_Filtered_data_1M.index)"
   ]
  },
  {
   "cell_type": "code",
   "execution_count": 8,
   "metadata": {},
   "outputs": [
    {
     "data": {
      "text/html": [
       "<div>\n",
       "<style scoped>\n",
       "    .dataframe tbody tr th:only-of-type {\n",
       "        vertical-align: middle;\n",
       "    }\n",
       "\n",
       "    .dataframe tbody tr th {\n",
       "        vertical-align: top;\n",
       "    }\n",
       "\n",
       "    .dataframe thead th {\n",
       "        text-align: right;\n",
       "    }\n",
       "</style>\n",
       "<table border=\"1\" class=\"dataframe\">\n",
       "  <thead>\n",
       "    <tr style=\"text-align: right;\">\n",
       "      <th></th>\n",
       "      <th>Open</th>\n",
       "      <th>High</th>\n",
       "      <th>Low</th>\n",
       "      <th>Close</th>\n",
       "      <th>Volume</th>\n",
       "      <th>Quote asset volume</th>\n",
       "      <th>Number of trades</th>\n",
       "      <th>Taker buy base asset volume</th>\n",
       "      <th>Taker buy quote asset volume</th>\n",
       "    </tr>\n",
       "    <tr>\n",
       "      <th>Open time (1M)</th>\n",
       "      <th></th>\n",
       "      <th></th>\n",
       "      <th></th>\n",
       "      <th></th>\n",
       "      <th></th>\n",
       "      <th></th>\n",
       "      <th></th>\n",
       "      <th></th>\n",
       "      <th></th>\n",
       "    </tr>\n",
       "  </thead>\n",
       "  <tbody>\n",
       "    <tr>\n",
       "      <th>2020-01-01 00:00:00</th>\n",
       "      <td>7169.71</td>\n",
       "      <td>7169.71</td>\n",
       "      <td>7165.44</td>\n",
       "      <td>7167.83</td>\n",
       "      <td>3509.860</td>\n",
       "      <td>2.515594e+07</td>\n",
       "      <td>139.0</td>\n",
       "      <td>1025.400</td>\n",
       "      <td>7.348382e+06</td>\n",
       "    </tr>\n",
       "    <tr>\n",
       "      <th>2020-01-01 00:01:00</th>\n",
       "      <td>7167.83</td>\n",
       "      <td>7168.28</td>\n",
       "      <td>7158.66</td>\n",
       "      <td>7159.95</td>\n",
       "      <td>3821.170</td>\n",
       "      <td>2.737640e+07</td>\n",
       "      <td>155.0</td>\n",
       "      <td>1571.990</td>\n",
       "      <td>1.126101e+07</td>\n",
       "    </tr>\n",
       "    <tr>\n",
       "      <th>2020-01-01 00:02:00</th>\n",
       "      <td>7161.03</td>\n",
       "      <td>7165.40</td>\n",
       "      <td>7161.03</td>\n",
       "      <td>7162.46</td>\n",
       "      <td>3041.710</td>\n",
       "      <td>2.178758e+07</td>\n",
       "      <td>122.0</td>\n",
       "      <td>1439.790</td>\n",
       "      <td>1.031332e+07</td>\n",
       "    </tr>\n",
       "    <tr>\n",
       "      <th>2020-01-01 00:03:00</th>\n",
       "      <td>7161.74</td>\n",
       "      <td>7164.27</td>\n",
       "      <td>7160.30</td>\n",
       "      <td>7161.03</td>\n",
       "      <td>3682.650</td>\n",
       "      <td>2.637680e+07</td>\n",
       "      <td>147.0</td>\n",
       "      <td>1557.630</td>\n",
       "      <td>1.115700e+07</td>\n",
       "    </tr>\n",
       "    <tr>\n",
       "      <th>2020-01-01 00:04:00</th>\n",
       "      <td>7161.03</td>\n",
       "      <td>7164.25</td>\n",
       "      <td>7160.15</td>\n",
       "      <td>7160.15</td>\n",
       "      <td>2936.690</td>\n",
       "      <td>2.103310e+07</td>\n",
       "      <td>113.0</td>\n",
       "      <td>1407.430</td>\n",
       "      <td>1.007968e+07</td>\n",
       "    </tr>\n",
       "    <tr>\n",
       "      <th>...</th>\n",
       "      <td>...</td>\n",
       "      <td>...</td>\n",
       "      <td>...</td>\n",
       "      <td>...</td>\n",
       "      <td>...</td>\n",
       "      <td>...</td>\n",
       "      <td>...</td>\n",
       "      <td>...</td>\n",
       "      <td>...</td>\n",
       "    </tr>\n",
       "    <tr>\n",
       "      <th>2024-07-05 10:41:00</th>\n",
       "      <td>55700.00</td>\n",
       "      <td>55700.00</td>\n",
       "      <td>55397.30</td>\n",
       "      <td>55500.00</td>\n",
       "      <td>1.283</td>\n",
       "      <td>7.120373e+04</td>\n",
       "      <td>23.0</td>\n",
       "      <td>0.010</td>\n",
       "      <td>5.555000e+02</td>\n",
       "    </tr>\n",
       "    <tr>\n",
       "      <th>2024-07-05 10:42:00</th>\n",
       "      <td>55500.00</td>\n",
       "      <td>55562.40</td>\n",
       "      <td>54959.50</td>\n",
       "      <td>55500.00</td>\n",
       "      <td>4.314</td>\n",
       "      <td>2.385602e+05</td>\n",
       "      <td>45.0</td>\n",
       "      <td>2.111</td>\n",
       "      <td>1.170360e+05</td>\n",
       "    </tr>\n",
       "    <tr>\n",
       "      <th>2024-07-05 10:43:00</th>\n",
       "      <td>55500.00</td>\n",
       "      <td>55500.00</td>\n",
       "      <td>54760.00</td>\n",
       "      <td>54923.90</td>\n",
       "      <td>8.064</td>\n",
       "      <td>4.438382e+05</td>\n",
       "      <td>48.0</td>\n",
       "      <td>1.990</td>\n",
       "      <td>1.101392e+05</td>\n",
       "    </tr>\n",
       "    <tr>\n",
       "      <th>2024-07-05 10:44:00</th>\n",
       "      <td>55000.00</td>\n",
       "      <td>55387.30</td>\n",
       "      <td>54959.50</td>\n",
       "      <td>54959.50</td>\n",
       "      <td>1.274</td>\n",
       "      <td>7.022735e+04</td>\n",
       "      <td>22.0</td>\n",
       "      <td>0.649</td>\n",
       "      <td>3.587385e+04</td>\n",
       "    </tr>\n",
       "    <tr>\n",
       "      <th>2024-07-05 10:45:00</th>\n",
       "      <td>54950.00</td>\n",
       "      <td>55191.40</td>\n",
       "      <td>54700.00</td>\n",
       "      <td>54950.00</td>\n",
       "      <td>5.037</td>\n",
       "      <td>2.764984e+05</td>\n",
       "      <td>69.0</td>\n",
       "      <td>2.064</td>\n",
       "      <td>1.136135e+05</td>\n",
       "    </tr>\n",
       "  </tbody>\n",
       "</table>\n",
       "<p>2372326 rows × 9 columns</p>\n",
       "</div>"
      ],
      "text/plain": [
       "                         Open      High       Low     Close    Volume  \\\n",
       "Open time (1M)                                                          \n",
       "2020-01-01 00:00:00   7169.71   7169.71   7165.44   7167.83  3509.860   \n",
       "2020-01-01 00:01:00   7167.83   7168.28   7158.66   7159.95  3821.170   \n",
       "2020-01-01 00:02:00   7161.03   7165.40   7161.03   7162.46  3041.710   \n",
       "2020-01-01 00:03:00   7161.74   7164.27   7160.30   7161.03  3682.650   \n",
       "2020-01-01 00:04:00   7161.03   7164.25   7160.15   7160.15  2936.690   \n",
       "...                       ...       ...       ...       ...       ...   \n",
       "2024-07-05 10:41:00  55700.00  55700.00  55397.30  55500.00     1.283   \n",
       "2024-07-05 10:42:00  55500.00  55562.40  54959.50  55500.00     4.314   \n",
       "2024-07-05 10:43:00  55500.00  55500.00  54760.00  54923.90     8.064   \n",
       "2024-07-05 10:44:00  55000.00  55387.30  54959.50  54959.50     1.274   \n",
       "2024-07-05 10:45:00  54950.00  55191.40  54700.00  54950.00     5.037   \n",
       "\n",
       "                     Quote asset volume  Number of trades  \\\n",
       "Open time (1M)                                              \n",
       "2020-01-01 00:00:00        2.515594e+07             139.0   \n",
       "2020-01-01 00:01:00        2.737640e+07             155.0   \n",
       "2020-01-01 00:02:00        2.178758e+07             122.0   \n",
       "2020-01-01 00:03:00        2.637680e+07             147.0   \n",
       "2020-01-01 00:04:00        2.103310e+07             113.0   \n",
       "...                                 ...               ...   \n",
       "2024-07-05 10:41:00        7.120373e+04              23.0   \n",
       "2024-07-05 10:42:00        2.385602e+05              45.0   \n",
       "2024-07-05 10:43:00        4.438382e+05              48.0   \n",
       "2024-07-05 10:44:00        7.022735e+04              22.0   \n",
       "2024-07-05 10:45:00        2.764984e+05              69.0   \n",
       "\n",
       "                     Taker buy base asset volume  Taker buy quote asset volume  \n",
       "Open time (1M)                                                                  \n",
       "2020-01-01 00:00:00                     1025.400                  7.348382e+06  \n",
       "2020-01-01 00:01:00                     1571.990                  1.126101e+07  \n",
       "2020-01-01 00:02:00                     1439.790                  1.031332e+07  \n",
       "2020-01-01 00:03:00                     1557.630                  1.115700e+07  \n",
       "2020-01-01 00:04:00                     1407.430                  1.007968e+07  \n",
       "...                                          ...                           ...  \n",
       "2024-07-05 10:41:00                        0.010                  5.555000e+02  \n",
       "2024-07-05 10:42:00                        2.111                  1.170360e+05  \n",
       "2024-07-05 10:43:00                        1.990                  1.101392e+05  \n",
       "2024-07-05 10:44:00                        0.649                  3.587385e+04  \n",
       "2024-07-05 10:45:00                        2.064                  1.136135e+05  \n",
       "\n",
       "[2372326 rows x 9 columns]"
      ]
     },
     "execution_count": 8,
     "metadata": {},
     "output_type": "execute_result"
    }
   ],
   "source": [
    "BTCUSDT_Filtered_data_1M"
   ]
  },
  {
   "cell_type": "markdown",
   "metadata": {},
   "source": [
    "### Display Graph For Close Price (1 Minute Interval)"
   ]
  },
  {
   "cell_type": "code",
   "execution_count": 11,
   "metadata": {},
   "outputs": [
    {
     "data": {
      "image/png": "[encoded data removed]",
      "text/plain": [
       "<Figure size 1080x504 with 1 Axes>"
      ]
     },
     "metadata": {
      "needs_background": "light"
     },
     "output_type": "display_data"
    }
   ],
   "source": [
    "# Plot the 'Close' price over time\n",
    "plt.figure(figsize=(15, 7))\n",
    "plt.plot(BTCUSDT_Filtered_data_1M['Close'], label='Close Price')\n",
    "plt.title('BTCUSDT Close Price (1-Day Interval)')\n",
    "plt.xlabel('Time')\n",
    "plt.ylabel('Close Price (USD)')\n",
    "plt.legend()\n",
    "plt.grid(True)\n",
    "plt.show()"
   ]
  },
  {
   "cell_type": "markdown",
   "metadata": {},
   "source": [
    "## Now, Enough Plotting! On The Task!"
   ]
  },
  {
   "cell_type": "markdown",
   "metadata": {},
   "source": [
    "## Generate Different Timeframe"
   ]
  },
  {
   "cell_type": "markdown",
   "metadata": {},
   "source": [
    "### Converting 1 Minute Interval Data to 4 Hour Interval Data"
   ]
  },
  {
   "cell_type": "code",
   "execution_count": 9,
   "metadata": {},
   "outputs": [
    {
     "data": {
      "text/html": [
       "<div>\n",
       "<style scoped>\n",
       "    .dataframe tbody tr th:only-of-type {\n",
       "        vertical-align: middle;\n",
       "    }\n",
       "\n",
       "    .dataframe tbody tr th {\n",
       "        vertical-align: top;\n",
       "    }\n",
       "\n",
       "    .dataframe thead th {\n",
       "        text-align: right;\n",
       "    }\n",
       "</style>\n",
       "<table border=\"1\" class=\"dataframe\">\n",
       "  <thead>\n",
       "    <tr style=\"text-align: right;\">\n",
       "      <th></th>\n",
       "      <th>Open</th>\n",
       "      <th>High</th>\n",
       "      <th>Low</th>\n",
       "      <th>Close</th>\n",
       "      <th>Volume</th>\n",
       "    </tr>\n",
       "    <tr>\n",
       "      <th>Open time (4H)</th>\n",
       "      <th></th>\n",
       "      <th></th>\n",
       "      <th></th>\n",
       "      <th></th>\n",
       "      <th></th>\n",
       "    </tr>\n",
       "  </thead>\n",
       "  <tbody>\n",
       "    <tr>\n",
       "      <th>2020-01-01 00:00:00</th>\n",
       "      <td>7169.71</td>\n",
       "      <td>7207.23</td>\n",
       "      <td>7156.65</td>\n",
       "      <td>7202.48</td>\n",
       "      <td>3428.062092</td>\n",
       "    </tr>\n",
       "    <tr>\n",
       "      <th>2020-01-01 04:00:00</th>\n",
       "      <td>7202.48</td>\n",
       "      <td>9592.00</td>\n",
       "      <td>6871.45</td>\n",
       "      <td>7241.63</td>\n",
       "      <td>285722.475587</td>\n",
       "    </tr>\n",
       "    <tr>\n",
       "      <th>2020-01-01 08:00:00</th>\n",
       "      <td>7241.63</td>\n",
       "      <td>7243.46</td>\n",
       "      <td>7215.94</td>\n",
       "      <td>7223.72</td>\n",
       "      <td>3629.004242</td>\n",
       "    </tr>\n",
       "    <tr>\n",
       "      <th>2020-01-01 12:00:00</th>\n",
       "      <td>7223.71</td>\n",
       "      <td>7233.33</td>\n",
       "      <td>7178.00</td>\n",
       "      <td>7201.02</td>\n",
       "      <td>3491.032767</td>\n",
       "    </tr>\n",
       "    <tr>\n",
       "      <th>2020-01-01 16:00:00</th>\n",
       "      <td>7201.56</td>\n",
       "      <td>7236.58</td>\n",
       "      <td>7187.86</td>\n",
       "      <td>7220.85</td>\n",
       "      <td>3125.298729</td>\n",
       "    </tr>\n",
       "    <tr>\n",
       "      <th>...</th>\n",
       "      <td>...</td>\n",
       "      <td>...</td>\n",
       "      <td>...</td>\n",
       "      <td>...</td>\n",
       "      <td>...</td>\n",
       "    </tr>\n",
       "    <tr>\n",
       "      <th>2024-07-04 16:00:00</th>\n",
       "      <td>57890.00</td>\n",
       "      <td>58600.00</td>\n",
       "      <td>56666.00</td>\n",
       "      <td>57628.80</td>\n",
       "      <td>50.266283</td>\n",
       "    </tr>\n",
       "    <tr>\n",
       "      <th>2024-07-04 20:00:00</th>\n",
       "      <td>57628.80</td>\n",
       "      <td>59111.00</td>\n",
       "      <td>57438.20</td>\n",
       "      <td>58768.00</td>\n",
       "      <td>7.108233</td>\n",
       "    </tr>\n",
       "    <tr>\n",
       "      <th>2024-07-05 00:00:00</th>\n",
       "      <td>58650.70</td>\n",
       "      <td>59706.50</td>\n",
       "      <td>57000.10</td>\n",
       "      <td>58359.00</td>\n",
       "      <td>11.704692</td>\n",
       "    </tr>\n",
       "    <tr>\n",
       "      <th>2024-07-05 04:00:00</th>\n",
       "      <td>58227.50</td>\n",
       "      <td>58688.00</td>\n",
       "      <td>55500.00</td>\n",
       "      <td>56702.30</td>\n",
       "      <td>24.856229</td>\n",
       "    </tr>\n",
       "    <tr>\n",
       "      <th>2024-07-05 08:00:00</th>\n",
       "      <td>56540.00</td>\n",
       "      <td>58050.00</td>\n",
       "      <td>53500.00</td>\n",
       "      <td>54950.00</td>\n",
       "      <td>49.374705</td>\n",
       "    </tr>\n",
       "  </tbody>\n",
       "</table>\n",
       "<p>9885 rows × 5 columns</p>\n",
       "</div>"
      ],
      "text/plain": [
       "                         Open      High       Low     Close         Volume\n",
       "Open time (4H)                                                            \n",
       "2020-01-01 00:00:00   7169.71   7207.23   7156.65   7202.48    3428.062092\n",
       "2020-01-01 04:00:00   7202.48   9592.00   6871.45   7241.63  285722.475587\n",
       "2020-01-01 08:00:00   7241.63   7243.46   7215.94   7223.72    3629.004242\n",
       "2020-01-01 12:00:00   7223.71   7233.33   7178.00   7201.02    3491.032767\n",
       "2020-01-01 16:00:00   7201.56   7236.58   7187.86   7220.85    3125.298729\n",
       "...                       ...       ...       ...       ...            ...\n",
       "2024-07-04 16:00:00  57890.00  58600.00  56666.00  57628.80      50.266283\n",
       "2024-07-04 20:00:00  57628.80  59111.00  57438.20  58768.00       7.108233\n",
       "2024-07-05 00:00:00  58650.70  59706.50  57000.10  58359.00      11.704692\n",
       "2024-07-05 04:00:00  58227.50  58688.00  55500.00  56702.30      24.856229\n",
       "2024-07-05 08:00:00  56540.00  58050.00  53500.00  54950.00      49.374705\n",
       "\n",
       "[9885 rows x 5 columns]"
      ]
     },
     "execution_count": 9,
     "metadata": {},
     "output_type": "execute_result"
    }
   ],
   "source": [
    "BTCUSDT_Filtered_data_4H = convert_1m_to_any_timeframe(copy.deepcopy(BTCUSDT_Filtered_data_1M), '4H')\n",
    "BTCUSDT_Filtered_data_4H"
   ]
  },
  {
   "cell_type": "markdown",
   "metadata": {},
   "source": [
    "### Converting 1 Minute Interval Data to 24 Hour (1 Day) Interval Data"
   ]
  },
  {
   "cell_type": "code",
   "execution_count": 10,
   "metadata": {},
   "outputs": [
    {
     "data": {
      "text/html": [
       "<div>\n",
       "<style scoped>\n",
       "    .dataframe tbody tr th:only-of-type {\n",
       "        vertical-align: middle;\n",
       "    }\n",
       "\n",
       "    .dataframe tbody tr th {\n",
       "        vertical-align: top;\n",
       "    }\n",
       "\n",
       "    .dataframe thead th {\n",
       "        text-align: right;\n",
       "    }\n",
       "</style>\n",
       "<table border=\"1\" class=\"dataframe\">\n",
       "  <thead>\n",
       "    <tr style=\"text-align: right;\">\n",
       "      <th></th>\n",
       "      <th>Open</th>\n",
       "      <th>High</th>\n",
       "      <th>Low</th>\n",
       "      <th>Close</th>\n",
       "      <th>Volume</th>\n",
       "    </tr>\n",
       "    <tr>\n",
       "      <th>Open time (1D)</th>\n",
       "      <th></th>\n",
       "      <th></th>\n",
       "      <th></th>\n",
       "      <th></th>\n",
       "      <th></th>\n",
       "    </tr>\n",
       "  </thead>\n",
       "  <tbody>\n",
       "    <tr>\n",
       "      <th>2020-01-01</th>\n",
       "      <td>7169.71</td>\n",
       "      <td>9592.00</td>\n",
       "      <td>6871.45</td>\n",
       "      <td>7242.21</td>\n",
       "      <td>50472.792781</td>\n",
       "    </tr>\n",
       "    <tr>\n",
       "      <th>2020-01-02</th>\n",
       "      <td>7242.21</td>\n",
       "      <td>7243.41</td>\n",
       "      <td>6934.53</td>\n",
       "      <td>6975.70</td>\n",
       "      <td>3348.620363</td>\n",
       "    </tr>\n",
       "    <tr>\n",
       "      <th>2020-01-03</th>\n",
       "      <td>6975.70</td>\n",
       "      <td>7600.00</td>\n",
       "      <td>6871.45</td>\n",
       "      <td>7342.00</td>\n",
       "      <td>3584.646061</td>\n",
       "    </tr>\n",
       "    <tr>\n",
       "      <th>2020-01-04</th>\n",
       "      <td>7342.00</td>\n",
       "      <td>7400.00</td>\n",
       "      <td>7260.00</td>\n",
       "      <td>7305.62</td>\n",
       "      <td>3105.244637</td>\n",
       "    </tr>\n",
       "    <tr>\n",
       "      <th>2020-01-05</th>\n",
       "      <td>7305.68</td>\n",
       "      <td>7492.05</td>\n",
       "      <td>7260.00</td>\n",
       "      <td>7438.62</td>\n",
       "      <td>2969.803410</td>\n",
       "    </tr>\n",
       "    <tr>\n",
       "      <th>...</th>\n",
       "      <td>...</td>\n",
       "      <td>...</td>\n",
       "      <td>...</td>\n",
       "      <td>...</td>\n",
       "      <td>...</td>\n",
       "    </tr>\n",
       "    <tr>\n",
       "      <th>2024-07-01</th>\n",
       "      <td>61706.50</td>\n",
       "      <td>69407.00</td>\n",
       "      <td>61351.00</td>\n",
       "      <td>64010.00</td>\n",
       "      <td>13.664674</td>\n",
       "    </tr>\n",
       "    <tr>\n",
       "      <th>2024-07-02</th>\n",
       "      <td>64160.90</td>\n",
       "      <td>64160.90</td>\n",
       "      <td>62250.00</td>\n",
       "      <td>63077.30</td>\n",
       "      <td>4.420171</td>\n",
       "    </tr>\n",
       "    <tr>\n",
       "      <th>2024-07-03</th>\n",
       "      <td>63077.30</td>\n",
       "      <td>63417.50</td>\n",
       "      <td>59032.00</td>\n",
       "      <td>59865.00</td>\n",
       "      <td>13.074811</td>\n",
       "    </tr>\n",
       "    <tr>\n",
       "      <th>2024-07-04</th>\n",
       "      <td>59969.00</td>\n",
       "      <td>60998.60</td>\n",
       "      <td>56666.00</td>\n",
       "      <td>58768.00</td>\n",
       "      <td>22.873936</td>\n",
       "    </tr>\n",
       "    <tr>\n",
       "      <th>2024-07-05</th>\n",
       "      <td>58650.70</td>\n",
       "      <td>59706.50</td>\n",
       "      <td>53500.00</td>\n",
       "      <td>54950.00</td>\n",
       "      <td>26.270622</td>\n",
       "    </tr>\n",
       "  </tbody>\n",
       "</table>\n",
       "<p>1648 rows × 5 columns</p>\n",
       "</div>"
      ],
      "text/plain": [
       "                    Open      High       Low     Close        Volume\n",
       "Open time (1D)                                                      \n",
       "2020-01-01       7169.71   9592.00   6871.45   7242.21  50472.792781\n",
       "2020-01-02       7242.21   7243.41   6934.53   6975.70   3348.620363\n",
       "2020-01-03       6975.70   7600.00   6871.45   7342.00   3584.646061\n",
       "2020-01-04       7342.00   7400.00   7260.00   7305.62   3105.244637\n",
       "2020-01-05       7305.68   7492.05   7260.00   7438.62   2969.803410\n",
       "...                  ...       ...       ...       ...           ...\n",
       "2024-07-01      61706.50  69407.00  61351.00  64010.00     13.664674\n",
       "2024-07-02      64160.90  64160.90  62250.00  63077.30      4.420171\n",
       "2024-07-03      63077.30  63417.50  59032.00  59865.00     13.074811\n",
       "2024-07-04      59969.00  60998.60  56666.00  58768.00     22.873936\n",
       "2024-07-05      58650.70  59706.50  53500.00  54950.00     26.270622\n",
       "\n",
       "[1648 rows x 5 columns]"
      ]
     },
     "execution_count": 10,
     "metadata": {},
     "output_type": "execute_result"
    }
   ],
   "source": [
    "BTCUSDT_Filtered_data_1D = convert_1m_to_any_timeframe(copy.deepcopy(BTCUSDT_Filtered_data_1M), '1D')\n",
    "BTCUSDT_Filtered_data_1D"
   ]
  },
  {
   "cell_type": "markdown",
   "metadata": {},
   "source": [
    "## Basic & Advanced Machine Learning & Deep Learning Models For 1 Day Interval Data"
   ]
  },
  {
   "cell_type": "markdown",
   "metadata": {},
   "source": [
    "### Using ML Models"
   ]
  },
  {
   "cell_type": "code",
   "execution_count": 53,
   "metadata": {},
   "outputs": [
    {
     "name": "stdout",
     "output_type": "stream",
     "text": [
      "Linear Regression - Mean Squared Error: 1061791.5597, R² Score: 0.8869\n",
      "Decision Tree Regression - Mean Squared Error: 1021012.2570, R² Score: 0.8912\n",
      "Random Forest Regression - Mean Squared Error: 567627.5771, R² Score: 0.9395\n",
      "Gradient Boosting Regression - Mean Squared Error: 1091775.2932, R² Score: 0.8837\n",
      "Support Vector Regression - Mean Squared Error: 1331779963.1794, R² Score: -140.9030\n"
     ]
    }
   ],
   "source": [
    "# Features and target variable\n",
    "X = BTCUSDT_Filtered_data_1D[['Open', 'High', 'Low', 'Volume']]\n",
    "y = BTCUSDT_Filtered_data_1D['Close']\n",
    "\n",
    "# # Use If You Want To Predict Random Values\n",
    "# # Split the data into training and testing sets\n",
    "# X_train, X_test, y_train, y_test = train_test_split(X, y, test_size=0.2, random_state=42)\n",
    "\n",
    "# Split the data into training and testing sets\n",
    "split_index = -60  # Last 60 values for y_train and y_test\n",
    "\n",
    "X_train = X.iloc[:split_index]\n",
    "X_test = X.iloc[split_index:]\n",
    "y_train = y.iloc[:split_index]\n",
    "y_test = y.iloc[split_index:]\n",
    "\n",
    "\n",
    "# Scale the features\n",
    "scaler = StandardScaler()\n",
    "X_train_scaled = scaler.fit_transform(X_train)\n",
    "X_test_scaled = scaler.transform(X_test)\n",
    "\n",
    "# Initialize models\n",
    "linear_model = LinearRegression()\n",
    "tree_model = DecisionTreeRegressor()\n",
    "forest_model = RandomForestRegressor(n_estimators=100)\n",
    "gboost_model = GradientBoostingRegressor()\n",
    "svr_model = SVR()\n",
    "\n",
    "# Train models\n",
    "linear_model.fit(X_train_scaled, y_train)\n",
    "tree_model.fit(X_train, y_train)  # Decision Tree does not require scaling\n",
    "forest_model.fit(X_train, y_train)  # Random Forest does not require scaling\n",
    "gboost_model.fit(X_train_scaled, y_train)\n",
    "svr_model.fit(X_train_scaled, y_train)\n",
    "\n",
    "# Predict using the models\n",
    "y_pred_linear = linear_model.predict(X_test_scaled)\n",
    "y_pred_tree = tree_model.predict(X_test)\n",
    "y_pred_forest = forest_model.predict(X_test)\n",
    "y_pred_gboost = gboost_model.predict(X_test_scaled)\n",
    "y_pred_svr = svr_model.predict(X_test_scaled)\n",
    "\n",
    "# Evaluate All Models\n",
    "evaluate_model(y_test, y_pred_linear, \"Linear Regression\")\n",
    "evaluate_model(y_test, y_pred_tree, \"Decision Tree Regression\")\n",
    "evaluate_model(y_test, y_pred_forest, \"Random Forest Regression\")\n",
    "evaluate_model(y_test, y_pred_gboost, \"Gradient Boosting Regression\")\n",
    "evaluate_model(y_test, y_pred_svr, \"Support Vector Regression\")"
   ]
  },
  {
   "cell_type": "markdown",
   "metadata": {},
   "source": [
    "### Plotting Predicted Close Price Line Using Linear Regression"
   ]
  },
  {
   "cell_type": "code",
   "execution_count": 92,
   "metadata": {},
   "outputs": [
    {
     "data": {
      "image/png": "[encoded data removed]",
      "text/plain": [
       "<Figure size 1152x432 with 1 Axes>"
      ]
     },
     "metadata": {
      "needs_background": "light"
     },
     "output_type": "display_data"
    }
   ],
   "source": [
    "plot_past_plus_predicted(BTCUSDT_Filtered_data_1D['Close'] ,y_pred_linear, len(X_train))"
   ]
  },
  {
   "cell_type": "markdown",
   "metadata": {},
   "source": [
    "### Plotting Predicted Close Price Line Using Decision Tree Regression"
   ]
  },
  {
   "cell_type": "code",
   "execution_count": 93,
   "metadata": {},
   "outputs": [
    {
     "data": {
      "image/png": "[encoded data removed]",
      "text/plain": [
       "<Figure size 1152x432 with 1 Axes>"
      ]
     },
     "metadata": {
      "needs_background": "light"
     },
     "output_type": "display_data"
    }
   ],
   "source": [
    "plot_past_plus_predicted(BTCUSDT_Filtered_data_1D['Close'] ,y_pred_tree, len(X_train))"
   ]
  },
  {
   "cell_type": "markdown",
   "metadata": {},
   "source": [
    "### Plotting Predicted Close Price Line Using Random Forest Regression"
   ]
  },
  {
   "cell_type": "code",
   "execution_count": 94,
   "metadata": {},
   "outputs": [
    {
     "data": {
      "image/png": "[encoded data removed]",
      "text/plain": [
       "<Figure size 1152x432 with 1 Axes>"
      ]
     },
     "metadata": {
      "needs_background": "light"
     },
     "output_type": "display_data"
    }
   ],
   "source": [
    "plot_past_plus_predicted(BTCUSDT_Filtered_data_1D['Close'] ,y_pred_forest, len(X_train))"
   ]
  },
  {
   "cell_type": "markdown",
   "metadata": {},
   "source": [
    "### Plotting Predicted Close Price Line Using Gradient Boosting Regression"
   ]
  },
  {
   "cell_type": "code",
   "execution_count": 95,
   "metadata": {},
   "outputs": [
    {
     "data": {
      "image/png": "[encoded data removed]",
      "text/plain": [
       "<Figure size 1152x432 with 1 Axes>"
      ]
     },
     "metadata": {
      "needs_background": "light"
     },
     "output_type": "display_data"
    }
   ],
   "source": [
    "plot_past_plus_predicted(BTCUSDT_Filtered_data_1D['Close'] ,y_pred_gboost, len(X_train))"
   ]
  },
  {
   "cell_type": "markdown",
   "metadata": {},
   "source": [
    "### Plotting Predicted Close Price Line Using Support Vector Regression"
   ]
  },
  {
   "cell_type": "code",
   "execution_count": 96,
   "metadata": {},
   "outputs": [
    {
     "data": {
      "image/png": "[encoded data removed]",
      "text/plain": [
       "<Figure size 1152x432 with 1 Axes>"
      ]
     },
     "metadata": {
      "needs_background": "light"
     },
     "output_type": "display_data"
    }
   ],
   "source": [
    "plot_past_plus_predicted(BTCUSDT_Filtered_data_1D['Close'] ,y_pred_svr, len(X_train))"
   ]
  },
  {
   "cell_type": "markdown",
   "metadata": {},
   "source": [
    "### Using DL Models: LSTM"
   ]
  },
  {
   "cell_type": "markdown",
   "metadata": {},
   "source": [
    "### Extracting Only The Close Column"
   ]
  },
  {
   "cell_type": "code",
   "execution_count": 32,
   "metadata": {},
   "outputs": [
    {
     "data": {
      "text/plain": [
       "1563"
      ]
     },
     "execution_count": 32,
     "metadata": {},
     "output_type": "execute_result"
    }
   ],
   "source": [
    "# Create a new dataframe with only the 'Close column \n",
    "data = BTCUSDT_Filtered_data_1D.filter(['Close'])\n",
    "# Convert the dataframe to a numpy array\n",
    "dataset = data.values\n",
    "# Get the number of rows to train the model on\n",
    "training_data_len = int(np.ceil( len(dataset) * .95 ))\n",
    "\n",
    "training_data_len"
   ]
  },
  {
   "cell_type": "markdown",
   "metadata": {},
   "source": [
    "### Scaling The Data"
   ]
  },
  {
   "cell_type": "code",
   "execution_count": 33,
   "metadata": {},
   "outputs": [
    {
     "data": {
      "text/plain": [
       "array([[0.02851069],\n",
       "       [0.02571942],\n",
       "       [0.02955583],\n",
       "       ...,\n",
       "       [0.59730725],\n",
       "       [0.62306238],\n",
       "       [0.61855777]])"
      ]
     },
     "execution_count": 33,
     "metadata": {},
     "output_type": "execute_result"
    }
   ],
   "source": [
    "scaler = MinMaxScaler(feature_range=(0,1))\n",
    "scaled_data = scaler.fit_transform(dataset)\n",
    "\n",
    "scaled_data"
   ]
  },
  {
   "cell_type": "markdown",
   "metadata": {},
   "source": [
    "### Creating The Training Dataset"
   ]
  },
  {
   "cell_type": "code",
   "execution_count": 34,
   "metadata": {},
   "outputs": [
    {
     "name": "stdout",
     "output_type": "stream",
     "text": [
      "[array([0.02851069, 0.02571942, 0.02955583, 0.0291748 , 0.03056777,\n",
      "       0.03153813, 0.03684636, 0.03699204, 0.03447832, 0.03665019,\n",
      "       0.03819041, 0.0376901 , 0.03759196, 0.04450775, 0.04429619,\n",
      "       0.04359374, 0.0460552 , 0.04570246, 0.04324739, 0.04340878,\n",
      "       0.04308735, 0.04346167, 0.04001173, 0.0415287 , 0.04004577,\n",
      "       0.04249435, 0.04572152, 0.0469069 , 0.05082217, 0.05214475,\n",
      "       0.05024822, 0.0510022 , 0.05153802, 0.05014778, 0.04895287,\n",
      "       0.05378729, 0.05498492, 0.05528258, 0.05572958, 0.05823723,\n",
      "       0.05572215, 0.05961448, 0.06099257, 0.05950168, 0.06114318,\n",
      "       0.05650849, 0.05530688, 0.05366119, 0.05722236, 0.0594246 ,\n",
      "       0.0524889 , 0.05427043, 0.05377881, 0.05609804, 0.05307615,\n",
      "       0.05084479, 0.04521272, 0.04573723, 0.04209814, 0.0434336 ])]\n",
      "[0.04123125693666285]\n",
      "\n",
      "[array([0.02851069, 0.02571942, 0.02955583, 0.0291748 , 0.03056777,\n",
      "       0.03153813, 0.03684636, 0.03699204, 0.03447832, 0.03665019,\n",
      "       0.03819041, 0.0376901 , 0.03759196, 0.04450775, 0.04429619,\n",
      "       0.04359374, 0.0460552 , 0.04570246, 0.04324739, 0.04340878,\n",
      "       0.04308735, 0.04346167, 0.04001173, 0.0415287 , 0.04004577,\n",
      "       0.04249435, 0.04572152, 0.0469069 , 0.05082217, 0.05214475,\n",
      "       0.05024822, 0.0510022 , 0.05153802, 0.05014778, 0.04895287,\n",
      "       0.05378729, 0.05498492, 0.05528258, 0.05572958, 0.05823723,\n",
      "       0.05572215, 0.05961448, 0.06099257, 0.05950168, 0.06114318,\n",
      "       0.05650849, 0.05530688, 0.05366119, 0.05722236, 0.0594246 ,\n",
      "       0.0524889 , 0.05427043, 0.05377881, 0.05609804, 0.05307615,\n",
      "       0.05084479, 0.04521272, 0.04573723, 0.04209814, 0.0434336 ]), array([0.02571942, 0.02955583, 0.0291748 , 0.03056777, 0.03153813,\n",
      "       0.03684636, 0.03699204, 0.03447832, 0.03665019, 0.03819041,\n",
      "       0.0376901 , 0.03759196, 0.04450775, 0.04429619, 0.04359374,\n",
      "       0.0460552 , 0.04570246, 0.04324739, 0.04340878, 0.04308735,\n",
      "       0.04346167, 0.04001173, 0.0415287 , 0.04004577, 0.04249435,\n",
      "       0.04572152, 0.0469069 , 0.05082217, 0.05214475, 0.05024822,\n",
      "       0.0510022 , 0.05153802, 0.05014778, 0.04895287, 0.05378729,\n",
      "       0.05498492, 0.05528258, 0.05572958, 0.05823723, 0.05572215,\n",
      "       0.05961448, 0.06099257, 0.05950168, 0.06114318, 0.05650849,\n",
      "       0.05530688, 0.05366119, 0.05722236, 0.0594246 , 0.0524889 ,\n",
      "       0.05427043, 0.05377881, 0.05609804, 0.05307615, 0.05084479,\n",
      "       0.04521272, 0.04573723, 0.04209814, 0.0434336 , 0.04123126])]\n",
      "[0.04123125693666285, 0.04545664489491462]\n",
      "\n"
     ]
    },
    {
     "data": {
      "text/plain": [
       "(1503, 60, 1)"
      ]
     },
     "execution_count": 34,
     "metadata": {},
     "output_type": "execute_result"
    }
   ],
   "source": [
    "# Create the training data set \n",
    "# Create the scaled training data set\n",
    "train_data = scaled_data[0:int(training_data_len), :]\n",
    "# Split the data into x_train and y_train data sets\n",
    "x_train = []\n",
    "y_train = []\n",
    "\n",
    "for i in range(60, len(train_data)):\n",
    "    x_train.append(train_data[i-60:i, 0])\n",
    "    y_train.append(train_data[i, 0])\n",
    "    if i<= 61:\n",
    "        print(x_train)\n",
    "        print(y_train)\n",
    "        print()\n",
    "        \n",
    "# Convert the x_train and y_train to numpy arrays \n",
    "x_train, y_train = np.array(x_train), np.array(y_train)\n",
    "\n",
    "# Reshape the data\n",
    "x_train = np.reshape(x_train, (x_train.shape[0], x_train.shape[1], 1))\n",
    "x_train.shape"
   ]
  },
  {
   "cell_type": "markdown",
   "metadata": {},
   "source": [
    "### Building The Model, Compiling It & Training It On The Training Data"
   ]
  },
  {
   "cell_type": "code",
   "execution_count": 35,
   "metadata": {},
   "outputs": [
    {
     "name": "stdout",
     "output_type": "stream",
     "text": [
      "1503/1503 [==============================] - 55s 33ms/step - loss: 0.0025\n"
     ]
    },
    {
     "data": {
      "text/plain": [
       "<keras.callbacks.History at 0x151b3c04790>"
      ]
     },
     "execution_count": 35,
     "metadata": {},
     "output_type": "execute_result"
    }
   ],
   "source": [
    "# Build the LSTM model\n",
    "model = Sequential()\n",
    "model.add(LSTM(128, return_sequences=True, input_shape= (x_train.shape[1], 1)))\n",
    "model.add(LSTM(64, return_sequences=False))\n",
    "model.add(Dense(25))\n",
    "model.add(Dense(1))\n",
    "\n",
    "# Compile the model\n",
    "model.compile(optimizer='adam', loss='mean_squared_error')\n",
    "\n",
    "# Train the model\n",
    "model.fit(x_train, y_train, batch_size=1, epochs=1)"
   ]
  },
  {
   "cell_type": "markdown",
   "metadata": {},
   "source": [
    "### Creating The Testing Dataset"
   ]
  },
  {
   "cell_type": "code",
   "execution_count": 36,
   "metadata": {},
   "outputs": [
    {
     "name": "stdout",
     "output_type": "stream",
     "text": [
      "3/3 [==============================] - 2s 36ms/step\n"
     ]
    },
    {
     "data": {
      "text/plain": [
       "3148.4348647797133"
      ]
     },
     "execution_count": 36,
     "metadata": {},
     "output_type": "execute_result"
    }
   ],
   "source": [
    "# Create the testing data set\n",
    "# Create a new array containing scaled values from index 1543 to 2002 \n",
    "test_data = scaled_data[training_data_len - 60: , :]\n",
    "# Create the data sets x_test and y_test\n",
    "x_test = []\n",
    "y_test = dataset[training_data_len:, :]\n",
    "for i in range(60, len(test_data)):\n",
    "    x_test.append(test_data[i-60:i, 0])\n",
    "    \n",
    "# Convert the data to a numpy array\n",
    "x_test = np.array(x_test)\n",
    "\n",
    "# Reshape the data\n",
    "x_test = np.reshape(x_test, (x_test.shape[0], x_test.shape[1], 1 ))\n",
    "\n",
    "# Get the models predicted price values \n",
    "predictions = model.predict(x_test)\n",
    "predictions = scaler.inverse_transform(predictions)\n",
    "\n",
    "# Get the root mean squared error (RMSE)\n",
    "rmse = np.sqrt(np.mean(((predictions - y_test) ** 2)))\n",
    "rmse"
   ]
  },
  {
   "cell_type": "markdown",
   "metadata": {},
   "source": [
    "### Plotting Predicted Close Price Line Using Long Short Term Memory (LSTM)"
   ]
  },
  {
   "cell_type": "code",
   "execution_count": 99,
   "metadata": {},
   "outputs": [
    {
     "data": {
      "image/png": "[encoded data removed]",
      "text/plain": [
       "<Figure size 1152x432 with 1 Axes>"
      ]
     },
     "metadata": {
      "needs_background": "light"
     },
     "output_type": "display_data"
    }
   ],
   "source": [
    "plot_past_plus_predicted(data, predictions, training_data_len)"
   ]
  },
  {
   "cell_type": "markdown",
   "metadata": {},
   "source": [
    "## Making Custom Trading Signal Generator Using LSTM & Custom Magnitude Calculator\n",
    "### - Still In The Making (Ignoring This For The Time Being)"
   ]
  },
  {
   "cell_type": "code",
   "execution_count": null,
   "metadata": {},
   "outputs": [],
   "source": [
    "def gain_calculator(fiat_amount,price_at_buy,price_at_sell):\n",
    "    crypto_amount = (fiat_amount- (fiat_amount*0.25/100))/price_at_buy\n",
    "    gain_from_sell = (price_at_sell * crypto_amount) - (price_at_sell * crypto_amount * 0.25/100)\n",
    "    return gain_from_sell - fiat_amount"
   ]
  },
  {
   "cell_type": "code",
   "execution_count": null,
   "metadata": {},
   "outputs": [],
   "source": [
    "def required_magnitude(current_price,fiat_amount):\n",
    "    x = 0 \n",
    "    while True:\n",
    "        gain = gain_calculator(fiat_amount,current_price,current_price+x)\n",
    "        if gain>0:\n",
    "            break\n",
    "        else:\n",
    "            x += 0.01\n",
    "    return x"
   ]
  },
  {
   "cell_type": "code",
   "execution_count": null,
   "metadata": {},
   "outputs": [],
   "source": [
    "#predict future price using trained LSTM\n",
    "pred_price = model.predict(historical_price)\n",
    "#get current price\n",
    "current_price = get_current_price()\n",
    "#calcualet required magnitude of increase in price\n",
    "mag = required_magnitude(current_price,fiat_amount)\n",
    "#determine action\n",
    "if pred_pricec - urrent_price >= mag:\n",
    "    #buy\n",
    "elif pred_price < current_price:\n",
    "    #sell\n",
    "else:\n",
    "    #do nothing"
   ]
  },
  {
   "cell_type": "markdown",
   "metadata": {},
   "source": [
    "## Performing Back Testing"
   ]
  },
  {
   "cell_type": "markdown",
   "metadata": {},
   "source": [
    "### Using Signals Generated From MACD On 1 Year Data Of 4-Hour Time Interval"
   ]
  },
  {
   "cell_type": "markdown",
   "metadata": {},
   "source": [
    "### Extracting 1 Year Data"
   ]
  },
  {
   "cell_type": "code",
   "execution_count": 11,
   "metadata": {},
   "outputs": [
    {
     "data": {
      "text/html": [
       "<div>\n",
       "<style scoped>\n",
       "    .dataframe tbody tr th:only-of-type {\n",
       "        vertical-align: middle;\n",
       "    }\n",
       "\n",
       "    .dataframe tbody tr th {\n",
       "        vertical-align: top;\n",
       "    }\n",
       "\n",
       "    .dataframe thead th {\n",
       "        text-align: right;\n",
       "    }\n",
       "</style>\n",
       "<table border=\"1\" class=\"dataframe\">\n",
       "  <thead>\n",
       "    <tr style=\"text-align: right;\">\n",
       "      <th></th>\n",
       "      <th>Open</th>\n",
       "      <th>High</th>\n",
       "      <th>Low</th>\n",
       "      <th>Close</th>\n",
       "      <th>Volume</th>\n",
       "    </tr>\n",
       "    <tr>\n",
       "      <th>Open time (4H)</th>\n",
       "      <th></th>\n",
       "      <th></th>\n",
       "      <th></th>\n",
       "      <th></th>\n",
       "      <th></th>\n",
       "    </tr>\n",
       "  </thead>\n",
       "  <tbody>\n",
       "    <tr>\n",
       "      <th>2023-07-02 00:00:00</th>\n",
       "      <td>30598.0</td>\n",
       "      <td>30700.0</td>\n",
       "      <td>30418.0</td>\n",
       "      <td>30679.9</td>\n",
       "      <td>66.690854</td>\n",
       "    </tr>\n",
       "    <tr>\n",
       "      <th>2023-07-02 04:00:00</th>\n",
       "      <td>30679.9</td>\n",
       "      <td>30700.0</td>\n",
       "      <td>30300.5</td>\n",
       "      <td>30432.1</td>\n",
       "      <td>63.147079</td>\n",
       "    </tr>\n",
       "    <tr>\n",
       "      <th>2023-07-02 08:00:00</th>\n",
       "      <td>30432.1</td>\n",
       "      <td>30637.0</td>\n",
       "      <td>30160.1</td>\n",
       "      <td>30379.4</td>\n",
       "      <td>66.269358</td>\n",
       "    </tr>\n",
       "    <tr>\n",
       "      <th>2023-07-02 12:00:00</th>\n",
       "      <td>30379.4</td>\n",
       "      <td>30636.0</td>\n",
       "      <td>30251.0</td>\n",
       "      <td>30441.7</td>\n",
       "      <td>69.949029</td>\n",
       "    </tr>\n",
       "    <tr>\n",
       "      <th>2023-07-02 16:00:00</th>\n",
       "      <td>30379.3</td>\n",
       "      <td>30499.0</td>\n",
       "      <td>30185.1</td>\n",
       "      <td>30406.9</td>\n",
       "      <td>71.054587</td>\n",
       "    </tr>\n",
       "    <tr>\n",
       "      <th>...</th>\n",
       "      <td>...</td>\n",
       "      <td>...</td>\n",
       "      <td>...</td>\n",
       "      <td>...</td>\n",
       "      <td>...</td>\n",
       "    </tr>\n",
       "    <tr>\n",
       "      <th>2024-07-02 04:00:00</th>\n",
       "      <td>64073.8</td>\n",
       "      <td>64160.9</td>\n",
       "      <td>63010.0</td>\n",
       "      <td>63100.3</td>\n",
       "      <td>4.206158</td>\n",
       "    </tr>\n",
       "    <tr>\n",
       "      <th>2024-07-02 08:00:00</th>\n",
       "      <td>63343.3</td>\n",
       "      <td>63999.9</td>\n",
       "      <td>63030.6</td>\n",
       "      <td>63051.1</td>\n",
       "      <td>4.505912</td>\n",
       "    </tr>\n",
       "    <tr>\n",
       "      <th>2024-07-02 12:00:00</th>\n",
       "      <td>63278.6</td>\n",
       "      <td>63712.6</td>\n",
       "      <td>62260.0</td>\n",
       "      <td>62826.0</td>\n",
       "      <td>7.381213</td>\n",
       "    </tr>\n",
       "    <tr>\n",
       "      <th>2024-07-02 16:00:00</th>\n",
       "      <td>62826.0</td>\n",
       "      <td>62960.2</td>\n",
       "      <td>62555.0</td>\n",
       "      <td>62826.0</td>\n",
       "      <td>3.259725</td>\n",
       "    </tr>\n",
       "    <tr>\n",
       "      <th>2024-07-02 20:00:00</th>\n",
       "      <td>62793.6</td>\n",
       "      <td>63417.5</td>\n",
       "      <td>62250.0</td>\n",
       "      <td>63077.3</td>\n",
       "      <td>3.329429</td>\n",
       "    </tr>\n",
       "  </tbody>\n",
       "</table>\n",
       "<p>2202 rows × 5 columns</p>\n",
       "</div>"
      ],
      "text/plain": [
       "                        Open     High      Low    Close     Volume\n",
       "Open time (4H)                                                    \n",
       "2023-07-02 00:00:00  30598.0  30700.0  30418.0  30679.9  66.690854\n",
       "2023-07-02 04:00:00  30679.9  30700.0  30300.5  30432.1  63.147079\n",
       "2023-07-02 08:00:00  30432.1  30637.0  30160.1  30379.4  66.269358\n",
       "2023-07-02 12:00:00  30379.4  30636.0  30251.0  30441.7  69.949029\n",
       "2023-07-02 16:00:00  30379.3  30499.0  30185.1  30406.9  71.054587\n",
       "...                      ...      ...      ...      ...        ...\n",
       "2024-07-02 04:00:00  64073.8  64160.9  63010.0  63100.3   4.206158\n",
       "2024-07-02 08:00:00  63343.3  63999.9  63030.6  63051.1   4.505912\n",
       "2024-07-02 12:00:00  63278.6  63712.6  62260.0  62826.0   7.381213\n",
       "2024-07-02 16:00:00  62826.0  62960.2  62555.0  62826.0   3.259725\n",
       "2024-07-02 20:00:00  62793.6  63417.5  62250.0  63077.3   3.329429\n",
       "\n",
       "[2202 rows x 5 columns]"
      ]
     },
     "execution_count": 11,
     "metadata": {},
     "output_type": "execute_result"
    }
   ],
   "source": [
    "# Fetch 1 Year Data\n",
    "BTCUSDT_Filtered_data_4H_Prev_1_Year = BTCUSDT_Filtered_data_4H.loc['2023-07-02' : '2024-07-02']\n",
    "BTCUSDT_Filtered_data_4H_Prev_1_Year"
   ]
  },
  {
   "cell_type": "markdown",
   "metadata": {},
   "source": [
    "### Generating Signas Using MACD Indicator Function"
   ]
  },
  {
   "cell_type": "code",
   "execution_count": 12,
   "metadata": {},
   "outputs": [
    {
     "data": {
      "text/html": [
       "<div>\n",
       "<style scoped>\n",
       "    .dataframe tbody tr th:only-of-type {\n",
       "        vertical-align: middle;\n",
       "    }\n",
       "\n",
       "    .dataframe tbody tr th {\n",
       "        vertical-align: top;\n",
       "    }\n",
       "\n",
       "    .dataframe thead th {\n",
       "        text-align: right;\n",
       "    }\n",
       "</style>\n",
       "<table border=\"1\" class=\"dataframe\">\n",
       "  <thead>\n",
       "    <tr style=\"text-align: right;\">\n",
       "      <th></th>\n",
       "      <th>Open</th>\n",
       "      <th>High</th>\n",
       "      <th>Low</th>\n",
       "      <th>Close</th>\n",
       "      <th>Volume</th>\n",
       "      <th>Signal</th>\n",
       "    </tr>\n",
       "    <tr>\n",
       "      <th>Open time (4H)</th>\n",
       "      <th></th>\n",
       "      <th></th>\n",
       "      <th></th>\n",
       "      <th></th>\n",
       "      <th></th>\n",
       "      <th></th>\n",
       "    </tr>\n",
       "  </thead>\n",
       "  <tbody>\n",
       "    <tr>\n",
       "      <th>2023-07-02 00:00:00</th>\n",
       "      <td>30598.0</td>\n",
       "      <td>30700.0</td>\n",
       "      <td>30418.0</td>\n",
       "      <td>30679.9</td>\n",
       "      <td>66.690854</td>\n",
       "      <td>0</td>\n",
       "    </tr>\n",
       "    <tr>\n",
       "      <th>2023-07-02 04:00:00</th>\n",
       "      <td>30679.9</td>\n",
       "      <td>30700.0</td>\n",
       "      <td>30300.5</td>\n",
       "      <td>30432.1</td>\n",
       "      <td>63.147079</td>\n",
       "      <td>-1</td>\n",
       "    </tr>\n",
       "    <tr>\n",
       "      <th>2023-07-02 08:00:00</th>\n",
       "      <td>30432.1</td>\n",
       "      <td>30637.0</td>\n",
       "      <td>30160.1</td>\n",
       "      <td>30379.4</td>\n",
       "      <td>66.269358</td>\n",
       "      <td>-1</td>\n",
       "    </tr>\n",
       "    <tr>\n",
       "      <th>2023-07-02 12:00:00</th>\n",
       "      <td>30379.4</td>\n",
       "      <td>30636.0</td>\n",
       "      <td>30251.0</td>\n",
       "      <td>30441.7</td>\n",
       "      <td>69.949029</td>\n",
       "      <td>-1</td>\n",
       "    </tr>\n",
       "    <tr>\n",
       "      <th>2023-07-02 16:00:00</th>\n",
       "      <td>30379.3</td>\n",
       "      <td>30499.0</td>\n",
       "      <td>30185.1</td>\n",
       "      <td>30406.9</td>\n",
       "      <td>71.054587</td>\n",
       "      <td>-1</td>\n",
       "    </tr>\n",
       "    <tr>\n",
       "      <th>...</th>\n",
       "      <td>...</td>\n",
       "      <td>...</td>\n",
       "      <td>...</td>\n",
       "      <td>...</td>\n",
       "      <td>...</td>\n",
       "      <td>...</td>\n",
       "    </tr>\n",
       "    <tr>\n",
       "      <th>2024-07-02 04:00:00</th>\n",
       "      <td>64073.8</td>\n",
       "      <td>64160.9</td>\n",
       "      <td>63010.0</td>\n",
       "      <td>63100.3</td>\n",
       "      <td>4.206158</td>\n",
       "      <td>1</td>\n",
       "    </tr>\n",
       "    <tr>\n",
       "      <th>2024-07-02 08:00:00</th>\n",
       "      <td>63343.3</td>\n",
       "      <td>63999.9</td>\n",
       "      <td>63030.6</td>\n",
       "      <td>63051.1</td>\n",
       "      <td>4.505912</td>\n",
       "      <td>1</td>\n",
       "    </tr>\n",
       "    <tr>\n",
       "      <th>2024-07-02 12:00:00</th>\n",
       "      <td>63278.6</td>\n",
       "      <td>63712.6</td>\n",
       "      <td>62260.0</td>\n",
       "      <td>62826.0</td>\n",
       "      <td>7.381213</td>\n",
       "      <td>1</td>\n",
       "    </tr>\n",
       "    <tr>\n",
       "      <th>2024-07-02 16:00:00</th>\n",
       "      <td>62826.0</td>\n",
       "      <td>62960.2</td>\n",
       "      <td>62555.0</td>\n",
       "      <td>62826.0</td>\n",
       "      <td>3.259725</td>\n",
       "      <td>1</td>\n",
       "    </tr>\n",
       "    <tr>\n",
       "      <th>2024-07-02 20:00:00</th>\n",
       "      <td>62793.6</td>\n",
       "      <td>63417.5</td>\n",
       "      <td>62250.0</td>\n",
       "      <td>63077.3</td>\n",
       "      <td>3.329429</td>\n",
       "      <td>1</td>\n",
       "    </tr>\n",
       "  </tbody>\n",
       "</table>\n",
       "<p>2202 rows × 6 columns</p>\n",
       "</div>"
      ],
      "text/plain": [
       "                        Open     High      Low    Close     Volume  Signal\n",
       "Open time (4H)                                                            \n",
       "2023-07-02 00:00:00  30598.0  30700.0  30418.0  30679.9  66.690854       0\n",
       "2023-07-02 04:00:00  30679.9  30700.0  30300.5  30432.1  63.147079      -1\n",
       "2023-07-02 08:00:00  30432.1  30637.0  30160.1  30379.4  66.269358      -1\n",
       "2023-07-02 12:00:00  30379.4  30636.0  30251.0  30441.7  69.949029      -1\n",
       "2023-07-02 16:00:00  30379.3  30499.0  30185.1  30406.9  71.054587      -1\n",
       "...                      ...      ...      ...      ...        ...     ...\n",
       "2024-07-02 04:00:00  64073.8  64160.9  63010.0  63100.3   4.206158       1\n",
       "2024-07-02 08:00:00  63343.3  63999.9  63030.6  63051.1   4.505912       1\n",
       "2024-07-02 12:00:00  63278.6  63712.6  62260.0  62826.0   7.381213       1\n",
       "2024-07-02 16:00:00  62826.0  62960.2  62555.0  62826.0   3.259725       1\n",
       "2024-07-02 20:00:00  62793.6  63417.5  62250.0  63077.3   3.329429       1\n",
       "\n",
       "[2202 rows x 6 columns]"
      ]
     },
     "execution_count": 12,
     "metadata": {},
     "output_type": "execute_result"
    }
   ],
   "source": [
    "# Calculate MACD for the 4-Hour data\n",
    "BTCUSDT_Filtered_data_4H_Prev_1_Year_with_macd = calculate_macd(copy.deepcopy(BTCUSDT_Filtered_data_4H_Prev_1_Year))\n",
    "\n",
    "# Generate trading signals based on MACD\n",
    "BTCUSDT_Filtered_data_4H_Prev_1_Year_with_macd = generate_macd_signals(BTCUSDT_Filtered_data_4H_Prev_1_Year_with_macd)\n",
    "\n",
    "# Print the data with MACD, Signal line, and signals\n",
    "BTCUSDT_Filtered_data_4H_Prev_1_Year_with_macd = BTCUSDT_Filtered_data_4H_Prev_1_Year_with_macd[[\n",
    "    'Open',\n",
    "    'High',\n",
    "    'Low',\n",
    "    'Close',\n",
    "    'Volume',\n",
    "    'Signal'\n",
    "]]\n",
    "BTCUSDT_Filtered_data_4H_Prev_1_Year_with_macd"
   ]
  },
  {
   "cell_type": "markdown",
   "metadata": {},
   "source": [
    "### Applying The Backtesting Algorithm"
   ]
  },
  {
   "cell_type": "code",
   "execution_count": 13,
   "metadata": {},
   "outputs": [
    {
     "data": {
      "text/html": [
       "<div>\n",
       "<style scoped>\n",
       "    .dataframe tbody tr th:only-of-type {\n",
       "        vertical-align: middle;\n",
       "    }\n",
       "\n",
       "    .dataframe tbody tr th {\n",
       "        vertical-align: top;\n",
       "    }\n",
       "\n",
       "    .dataframe thead th {\n",
       "        text-align: right;\n",
       "    }\n",
       "</style>\n",
       "<table border=\"1\" class=\"dataframe\">\n",
       "  <thead>\n",
       "    <tr style=\"text-align: right;\">\n",
       "      <th></th>\n",
       "      <th>Open time (4H)</th>\n",
       "      <th>direction</th>\n",
       "      <th>entry price</th>\n",
       "      <th>close price</th>\n",
       "    </tr>\n",
       "  </thead>\n",
       "  <tbody>\n",
       "    <tr>\n",
       "      <th>0</th>\n",
       "      <td>2023-07-02 04:00:00</td>\n",
       "      <td>short</td>\n",
       "      <td>30679.9</td>\n",
       "      <td>0</td>\n",
       "    </tr>\n",
       "    <tr>\n",
       "      <th>1</th>\n",
       "      <td>2023-07-03 20:00:00</td>\n",
       "      <td>long</td>\n",
       "      <td>30679.9</td>\n",
       "      <td>30490.0</td>\n",
       "    </tr>\n",
       "    <tr>\n",
       "      <th>2</th>\n",
       "      <td>2023-07-03 20:00:00</td>\n",
       "      <td>long</td>\n",
       "      <td>30490.0</td>\n",
       "      <td>0</td>\n",
       "    </tr>\n",
       "    <tr>\n",
       "      <th>3</th>\n",
       "      <td>2023-07-05 12:00:00</td>\n",
       "      <td>short</td>\n",
       "      <td>30490.0</td>\n",
       "      <td>30820.0</td>\n",
       "    </tr>\n",
       "    <tr>\n",
       "      <th>4</th>\n",
       "      <td>2023-07-05 12:00:00</td>\n",
       "      <td>short</td>\n",
       "      <td>30820.0</td>\n",
       "      <td>0</td>\n",
       "    </tr>\n",
       "    <tr>\n",
       "      <th>...</th>\n",
       "      <td>...</td>\n",
       "      <td>...</td>\n",
       "      <td>...</td>\n",
       "      <td>...</td>\n",
       "    </tr>\n",
       "    <tr>\n",
       "      <th>414</th>\n",
       "      <td>2024-06-27 00:00:00</td>\n",
       "      <td>long</td>\n",
       "      <td>61418.2</td>\n",
       "      <td>0</td>\n",
       "    </tr>\n",
       "    <tr>\n",
       "      <th>415</th>\n",
       "      <td>2024-06-27 04:00:00</td>\n",
       "      <td>short</td>\n",
       "      <td>61418.2</td>\n",
       "      <td>61786.6</td>\n",
       "    </tr>\n",
       "    <tr>\n",
       "      <th>416</th>\n",
       "      <td>2024-06-27 04:00:00</td>\n",
       "      <td>short</td>\n",
       "      <td>61786.6</td>\n",
       "      <td>0</td>\n",
       "    </tr>\n",
       "    <tr>\n",
       "      <th>417</th>\n",
       "      <td>2024-06-27 16:00:00</td>\n",
       "      <td>long</td>\n",
       "      <td>61786.6</td>\n",
       "      <td>61415.4</td>\n",
       "    </tr>\n",
       "    <tr>\n",
       "      <th>418</th>\n",
       "      <td>2024-06-27 16:00:00</td>\n",
       "      <td>long</td>\n",
       "      <td>61415.4</td>\n",
       "      <td>0</td>\n",
       "    </tr>\n",
       "  </tbody>\n",
       "</table>\n",
       "<p>419 rows × 4 columns</p>\n",
       "</div>"
      ],
      "text/plain": [
       "          Open time (4H) direction entry price close price\n",
       "0    2023-07-02 04:00:00     short     30679.9           0\n",
       "1    2023-07-03 20:00:00      long     30679.9     30490.0\n",
       "2    2023-07-03 20:00:00      long     30490.0           0\n",
       "3    2023-07-05 12:00:00     short     30490.0     30820.0\n",
       "4    2023-07-05 12:00:00     short     30820.0           0\n",
       "..                   ...       ...         ...         ...\n",
       "414  2024-06-27 00:00:00      long     61418.2           0\n",
       "415  2024-06-27 04:00:00     short     61418.2     61786.6\n",
       "416  2024-06-27 04:00:00     short     61786.6           0\n",
       "417  2024-06-27 16:00:00      long     61786.6     61415.4\n",
       "418  2024-06-27 16:00:00      long     61415.4           0\n",
       "\n",
       "[419 rows x 4 columns]"
      ]
     },
     "execution_count": 13,
     "metadata": {},
     "output_type": "execute_result"
    }
   ],
   "source": [
    "backtest_df = generate_backtest_df(BTCUSDT_Filtered_data_4H_Prev_1_Year_with_macd)\n",
    "backtest_df"
   ]
  },
  {
   "cell_type": "markdown",
   "metadata": {},
   "source": [
    "### Calculating Profit & Loss (PNL) For The Backtesting"
   ]
  },
  {
   "cell_type": "code",
   "execution_count": 93,
   "metadata": {},
   "outputs": [
    {
     "data": {
      "text/html": [
       "<div>\n",
       "<style scoped>\n",
       "    .dataframe tbody tr th:only-of-type {\n",
       "        vertical-align: middle;\n",
       "    }\n",
       "\n",
       "    .dataframe tbody tr th {\n",
       "        vertical-align: top;\n",
       "    }\n",
       "\n",
       "    .dataframe thead th {\n",
       "        text-align: right;\n",
       "    }\n",
       "</style>\n",
       "<table border=\"1\" class=\"dataframe\">\n",
       "  <thead>\n",
       "    <tr style=\"text-align: right;\">\n",
       "      <th></th>\n",
       "      <th>Open time (4H)</th>\n",
       "      <th>direction</th>\n",
       "      <th>entry price</th>\n",
       "      <th>close price</th>\n",
       "      <th>PNL</th>\n",
       "    </tr>\n",
       "  </thead>\n",
       "  <tbody>\n",
       "    <tr>\n",
       "      <th>0</th>\n",
       "      <td>2023-07-02 04:00:00</td>\n",
       "      <td>short</td>\n",
       "      <td>30679.9</td>\n",
       "      <td>0</td>\n",
       "      <td>0.00</td>\n",
       "    </tr>\n",
       "    <tr>\n",
       "      <th>1</th>\n",
       "      <td>2023-07-03 20:00:00</td>\n",
       "      <td>long</td>\n",
       "      <td>30679.9</td>\n",
       "      <td>30490.0</td>\n",
       "      <td>0.62</td>\n",
       "    </tr>\n",
       "    <tr>\n",
       "      <th>2</th>\n",
       "      <td>2023-07-03 20:00:00</td>\n",
       "      <td>long</td>\n",
       "      <td>30490.0</td>\n",
       "      <td>0</td>\n",
       "      <td>0.00</td>\n",
       "    </tr>\n",
       "    <tr>\n",
       "      <th>3</th>\n",
       "      <td>2023-07-05 12:00:00</td>\n",
       "      <td>short</td>\n",
       "      <td>30490.0</td>\n",
       "      <td>30820.0</td>\n",
       "      <td>1.08</td>\n",
       "    </tr>\n",
       "    <tr>\n",
       "      <th>4</th>\n",
       "      <td>2023-07-05 12:00:00</td>\n",
       "      <td>short</td>\n",
       "      <td>30820.0</td>\n",
       "      <td>0</td>\n",
       "      <td>0.00</td>\n",
       "    </tr>\n",
       "    <tr>\n",
       "      <th>...</th>\n",
       "      <td>...</td>\n",
       "      <td>...</td>\n",
       "      <td>...</td>\n",
       "      <td>...</td>\n",
       "      <td>...</td>\n",
       "    </tr>\n",
       "    <tr>\n",
       "      <th>414</th>\n",
       "      <td>2024-06-27 00:00:00</td>\n",
       "      <td>long</td>\n",
       "      <td>61418.2</td>\n",
       "      <td>0</td>\n",
       "      <td>0.00</td>\n",
       "    </tr>\n",
       "    <tr>\n",
       "      <th>415</th>\n",
       "      <td>2024-06-27 04:00:00</td>\n",
       "      <td>short</td>\n",
       "      <td>61418.2</td>\n",
       "      <td>61786.6</td>\n",
       "      <td>0.60</td>\n",
       "    </tr>\n",
       "    <tr>\n",
       "      <th>416</th>\n",
       "      <td>2024-06-27 04:00:00</td>\n",
       "      <td>short</td>\n",
       "      <td>61786.6</td>\n",
       "      <td>0</td>\n",
       "      <td>0.00</td>\n",
       "    </tr>\n",
       "    <tr>\n",
       "      <th>417</th>\n",
       "      <td>2024-06-27 16:00:00</td>\n",
       "      <td>long</td>\n",
       "      <td>61786.6</td>\n",
       "      <td>61415.4</td>\n",
       "      <td>0.60</td>\n",
       "    </tr>\n",
       "    <tr>\n",
       "      <th>418</th>\n",
       "      <td>2024-06-27 16:00:00</td>\n",
       "      <td>long</td>\n",
       "      <td>61415.4</td>\n",
       "      <td>0</td>\n",
       "      <td>0.00</td>\n",
       "    </tr>\n",
       "  </tbody>\n",
       "</table>\n",
       "<p>419 rows × 5 columns</p>\n",
       "</div>"
      ],
      "text/plain": [
       "          Open time (4H) direction entry price close price   PNL\n",
       "0    2023-07-02 04:00:00     short     30679.9           0  0.00\n",
       "1    2023-07-03 20:00:00      long     30679.9     30490.0  0.62\n",
       "2    2023-07-03 20:00:00      long     30490.0           0  0.00\n",
       "3    2023-07-05 12:00:00     short     30490.0     30820.0  1.08\n",
       "4    2023-07-05 12:00:00     short     30820.0           0  0.00\n",
       "..                   ...       ...         ...         ...   ...\n",
       "414  2024-06-27 00:00:00      long     61418.2           0  0.00\n",
       "415  2024-06-27 04:00:00     short     61418.2     61786.6  0.60\n",
       "416  2024-06-27 04:00:00     short     61786.6           0  0.00\n",
       "417  2024-06-27 16:00:00      long     61786.6     61415.4  0.60\n",
       "418  2024-06-27 16:00:00      long     61415.4           0  0.00\n",
       "\n",
       "[419 rows x 5 columns]"
      ]
     },
     "execution_count": 93,
     "metadata": {},
     "output_type": "execute_result"
    }
   ],
   "source": [
    "# Add PNL column to the backtest_df\n",
    "backtest_df['PNL'] = 0.0\n",
    "\n",
    "# Calculate PNL for each completed trade\n",
    "for i in range(1, len(backtest_df), 2):\n",
    "    entry_price = float(backtest_df.iloc[i]['entry price'])\n",
    "    close_price = float(backtest_df.iloc[i]['close price'])\n",
    "    direction = backtest_df.iloc[i - 1]['direction']\n",
    "    pnl = calculate_pnl(entry_price, close_price, direction)\n",
    "    backtest_df.loc[i, 'PNL'] = pnl\n",
    "    \n",
    "backtest_df"
   ]
  },
  {
   "cell_type": "markdown",
   "metadata": {},
   "source": [
    "### Displaying Cumulative Profit & Loss (PNL)"
   ]
  },
  {
   "cell_type": "code",
   "execution_count": 94,
   "metadata": {},
   "outputs": [
    {
     "data": {
      "text/plain": [
       "297.77"
      ]
     },
     "execution_count": 94,
     "metadata": {},
     "output_type": "execute_result"
    }
   ],
   "source": [
    "total_PNL = backtest_df['PNL'].sum()\n",
    "total_PNL"
   ]
  },
  {
   "cell_type": "markdown",
   "metadata": {},
   "source": [
    "## Time Analysis On The Backtest Function"
   ]
  },
  {
   "cell_type": "markdown",
   "metadata": {},
   "source": [
    "### Extracting 2 Years Data & Applying MACD To Generate Signals"
   ]
  },
  {
   "cell_type": "code",
   "execution_count": null,
   "metadata": {},
   "outputs": [],
   "source": [
    "# Fetch 2 Year Data\n",
    "BTCUSDT_Filtered_data_4H_Prev_2_Year = BTCUSDT_Filtered_data_4H.loc['2022-07-02': '2024-07-02']\n",
    "\n",
    "# Calculate MACD for the 4-Hour data\n",
    "BTCUSDT_Filtered_data_4H_Prev_2_Year_with_macd = calculate_macd(copy.deepcopy(BTCUSDT_Filtered_data_4H_Prev_2_Year))\n",
    "\n",
    "# Generate trading signals based on MACD\n",
    "BTCUSDT_Filtered_data_4H_Prev_2_Year_with_macd = generate_macd_signals(BTCUSDT_Filtered_data_4H_Prev_2_Year_with_macd)\n",
    "\n",
    "# Print the data with MACD, Signal line, and signals\n",
    "BTCUSDT_Filtered_data_4H_Prev_2_Year_with_macd = BTCUSDT_Filtered_data_4H_Prev_2_Year_with_macd[[\n",
    "    'Open',\n",
    "    'High',\n",
    "    'Low',\n",
    "    'Close',\n",
    "    'Volume',\n",
    "    'Signal'\n",
    "]]\n",
    "BTCUSDT_Filtered_data_4H_Prev_2_Year_with_macd"
   ]
  },
  {
   "cell_type": "markdown",
   "metadata": {},
   "source": [
    "### Running The Code 10 Times Per Loop Which Will Run For 5 Times"
   ]
  },
  {
   "cell_type": "code",
   "execution_count": null,
   "metadata": {},
   "outputs": [],
   "source": [
    "%%timeit -n 10 -r 5\n",
    "backtest_df = generate_backtest_df(BTCUSDT_Filtered_data_4H_Prev_2_Year_with_macd)"
   ]
  },
  {
   "cell_type": "markdown",
   "metadata": {},
   "source": [
    "#### The Time Analysis Report:\n",
    "- 938 ms ± 272 ms per loop (mean ± std. dev. of 5 runs, 10 loops each)"
   ]
  },
  {
   "cell_type": "markdown",
   "metadata": {},
   "source": [
    "# ***More Later!***"
   ]
  }
 ],
 "metadata": {
  "kernelspec": {
   "display_name": "Python 3 (ipykernel)",
   "language": "python",
   "name": "python3"
  },
  "language_info": {
   "codemirror_mode": {
    "name": "ipython",
    "version": 3
   },
   "file_extension": ".py",
   "mimetype": "text/x-python",
   "name": "python",
   "nbconvert_exporter": "python",
   "pygments_lexer": "ipython3",
   "version": "3.12.4"
  }
 },
 "nbformat": 4,
 "nbformat_minor": 4
}
